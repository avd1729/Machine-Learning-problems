{
 "cells": [
  {
   "cell_type": "code",
   "execution_count": 1,
   "id": "e7aef75b",
   "metadata": {
    "execution": {
     "iopub.execute_input": "2023-03-07T15:33:00.105806Z",
     "iopub.status.busy": "2023-03-07T15:33:00.105019Z",
     "iopub.status.idle": "2023-03-07T15:33:00.114837Z",
     "shell.execute_reply": "2023-03-07T15:33:00.113762Z"
    },
    "papermill": {
     "duration": 0.020457,
     "end_time": "2023-03-07T15:33:00.117559",
     "exception": false,
     "start_time": "2023-03-07T15:33:00.097102",
     "status": "completed"
    },
    "tags": []
   },
   "outputs": [],
   "source": [
    "import numpy as np\n",
    "import pandas as pd"
   ]
  },
  {
   "cell_type": "code",
   "execution_count": 2,
   "id": "ee3d11d2",
   "metadata": {
    "execution": {
     "iopub.execute_input": "2023-03-07T15:33:00.129868Z",
     "iopub.status.busy": "2023-03-07T15:33:00.129092Z",
     "iopub.status.idle": "2023-03-07T15:33:00.152304Z",
     "shell.execute_reply": "2023-03-07T15:33:00.150984Z"
    },
    "papermill": {
     "duration": 0.032631,
     "end_time": "2023-03-07T15:33:00.155281",
     "exception": false,
     "start_time": "2023-03-07T15:33:00.122650",
     "status": "completed"
    },
    "tags": []
   },
   "outputs": [],
   "source": [
    "data = pd.read_csv('/kaggle/input/itc-stock-value/Quote-Equity-ITC-EQ-05-03-2021-to-05-03-2023.csv')\n",
    "df = pd.DataFrame(data)"
   ]
  },
  {
   "cell_type": "code",
   "execution_count": 3,
   "id": "526f3127",
   "metadata": {
    "execution": {
     "iopub.execute_input": "2023-03-07T15:33:00.167479Z",
     "iopub.status.busy": "2023-03-07T15:33:00.166705Z",
     "iopub.status.idle": "2023-03-07T15:33:00.197097Z",
     "shell.execute_reply": "2023-03-07T15:33:00.195377Z"
    },
    "papermill": {
     "duration": 0.03945,
     "end_time": "2023-03-07T15:33:00.199828",
     "exception": false,
     "start_time": "2023-03-07T15:33:00.160378",
     "status": "completed"
    },
    "tags": []
   },
   "outputs": [
    {
     "name": "stdout",
     "output_type": "stream",
     "text": [
      "<class 'pandas.core.frame.DataFrame'>\n",
      "RangeIndex: 496 entries, 0 to 495\n",
      "Data columns (total 13 columns):\n",
      " #   Column         Non-Null Count  Dtype  \n",
      "---  ------         --------------  -----  \n",
      " 0   ï»¿\"Date \"     496 non-null    object \n",
      " 1   OPEN           496 non-null    float64\n",
      " 2   HIGH           496 non-null    float64\n",
      " 3   LOW            496 non-null    float64\n",
      " 4   PREV. CLOSE    496 non-null    float64\n",
      " 5   ltp            496 non-null    float64\n",
      " 6   close          496 non-null    float64\n",
      " 7   vwap           496 non-null    float64\n",
      " 8   52W H          496 non-null    float64\n",
      " 9   52W L          496 non-null    float64\n",
      " 10  VOLUME         496 non-null    int64  \n",
      " 11  VALUE          496 non-null    int64  \n",
      " 12  No of trades   496 non-null    int64  \n",
      "dtypes: float64(9), int64(3), object(1)\n",
      "memory usage: 50.5+ KB\n"
     ]
    }
   ],
   "source": [
    "data.info()"
   ]
  },
  {
   "cell_type": "code",
   "execution_count": 4,
   "id": "2d22a449",
   "metadata": {
    "execution": {
     "iopub.execute_input": "2023-03-07T15:33:00.212037Z",
     "iopub.status.busy": "2023-03-07T15:33:00.211577Z",
     "iopub.status.idle": "2023-03-07T15:33:00.243492Z",
     "shell.execute_reply": "2023-03-07T15:33:00.242008Z"
    },
    "papermill": {
     "duration": 0.041508,
     "end_time": "2023-03-07T15:33:00.246289",
     "exception": false,
     "start_time": "2023-03-07T15:33:00.204781",
     "status": "completed"
    },
    "tags": []
   },
   "outputs": [
    {
     "data": {
      "text/html": [
       "<div>\n",
       "<style scoped>\n",
       "    .dataframe tbody tr th:only-of-type {\n",
       "        vertical-align: middle;\n",
       "    }\n",
       "\n",
       "    .dataframe tbody tr th {\n",
       "        vertical-align: top;\n",
       "    }\n",
       "\n",
       "    .dataframe thead th {\n",
       "        text-align: right;\n",
       "    }\n",
       "</style>\n",
       "<table border=\"1\" class=\"dataframe\">\n",
       "  <thead>\n",
       "    <tr style=\"text-align: right;\">\n",
       "      <th></th>\n",
       "      <th>ï»¿\"Date \"</th>\n",
       "      <th>OPEN</th>\n",
       "      <th>HIGH</th>\n",
       "      <th>LOW</th>\n",
       "      <th>PREV. CLOSE</th>\n",
       "      <th>ltp</th>\n",
       "      <th>close</th>\n",
       "      <th>vwap</th>\n",
       "      <th>52W H</th>\n",
       "      <th>52W L</th>\n",
       "      <th>VOLUME</th>\n",
       "      <th>VALUE</th>\n",
       "      <th>No of trades</th>\n",
       "    </tr>\n",
       "  </thead>\n",
       "  <tbody>\n",
       "    <tr>\n",
       "      <th>0</th>\n",
       "      <td>03-Mar-23</td>\n",
       "      <td>377.00</td>\n",
       "      <td>385.40</td>\n",
       "      <td>376.1</td>\n",
       "      <td>375.55</td>\n",
       "      <td>385.30</td>\n",
       "      <td>384.95</td>\n",
       "      <td>382.31</td>\n",
       "      <td>394.0</td>\n",
       "      <td>210.8</td>\n",
       "      <td>8180709</td>\n",
       "      <td>3127554880</td>\n",
       "      <td>116737</td>\n",
       "    </tr>\n",
       "    <tr>\n",
       "      <th>1</th>\n",
       "      <td>02-Mar-23</td>\n",
       "      <td>379.50</td>\n",
       "      <td>379.75</td>\n",
       "      <td>374.7</td>\n",
       "      <td>378.70</td>\n",
       "      <td>375.85</td>\n",
       "      <td>375.55</td>\n",
       "      <td>376.22</td>\n",
       "      <td>394.0</td>\n",
       "      <td>210.8</td>\n",
       "      <td>5019603</td>\n",
       "      <td>1888498850</td>\n",
       "      <td>98330</td>\n",
       "    </tr>\n",
       "    <tr>\n",
       "      <th>2</th>\n",
       "      <td>01-Mar-23</td>\n",
       "      <td>374.25</td>\n",
       "      <td>380.40</td>\n",
       "      <td>373.6</td>\n",
       "      <td>376.70</td>\n",
       "      <td>378.60</td>\n",
       "      <td>378.70</td>\n",
       "      <td>378.58</td>\n",
       "      <td>394.0</td>\n",
       "      <td>210.8</td>\n",
       "      <td>7766667</td>\n",
       "      <td>2940311889</td>\n",
       "      <td>114616</td>\n",
       "    </tr>\n",
       "    <tr>\n",
       "      <th>3</th>\n",
       "      <td>28-Feb-23</td>\n",
       "      <td>382.50</td>\n",
       "      <td>384.25</td>\n",
       "      <td>375.0</td>\n",
       "      <td>382.20</td>\n",
       "      <td>376.50</td>\n",
       "      <td>376.70</td>\n",
       "      <td>377.55</td>\n",
       "      <td>394.0</td>\n",
       "      <td>210.8</td>\n",
       "      <td>16367477</td>\n",
       "      <td>6179566022</td>\n",
       "      <td>161521</td>\n",
       "    </tr>\n",
       "    <tr>\n",
       "      <th>4</th>\n",
       "      <td>27-Feb-23</td>\n",
       "      <td>385.10</td>\n",
       "      <td>386.80</td>\n",
       "      <td>378.1</td>\n",
       "      <td>385.10</td>\n",
       "      <td>382.20</td>\n",
       "      <td>382.20</td>\n",
       "      <td>381.68</td>\n",
       "      <td>394.0</td>\n",
       "      <td>210.8</td>\n",
       "      <td>8142319</td>\n",
       "      <td>3107756123</td>\n",
       "      <td>122227</td>\n",
       "    </tr>\n",
       "  </tbody>\n",
       "</table>\n",
       "</div>"
      ],
      "text/plain": [
       "  ï»¿\"Date \"   OPEN    HIGH    LOW   PREV. CLOSE     ltp   close    vwap   \\\n",
       "0  03-Mar-23  377.00  385.40  376.1        375.55  385.30  384.95  382.31   \n",
       "1  02-Mar-23  379.50  379.75  374.7        378.70  375.85  375.55  376.22   \n",
       "2  01-Mar-23  374.25  380.40  373.6        376.70  378.60  378.70  378.58   \n",
       "3  28-Feb-23  382.50  384.25  375.0        382.20  376.50  376.70  377.55   \n",
       "4  27-Feb-23  385.10  386.80  378.1        385.10  382.20  382.20  381.68   \n",
       "\n",
       "   52W H   52W L    VOLUME       VALUE   No of trades   \n",
       "0   394.0   210.8   8180709  3127554880         116737  \n",
       "1   394.0   210.8   5019603  1888498850          98330  \n",
       "2   394.0   210.8   7766667  2940311889         114616  \n",
       "3   394.0   210.8  16367477  6179566022         161521  \n",
       "4   394.0   210.8   8142319  3107756123         122227  "
      ]
     },
     "execution_count": 4,
     "metadata": {},
     "output_type": "execute_result"
    }
   ],
   "source": [
    "data.head()"
   ]
  },
  {
   "cell_type": "code",
   "execution_count": 5,
   "id": "4de9b2bd",
   "metadata": {
    "execution": {
     "iopub.execute_input": "2023-03-07T15:33:00.258602Z",
     "iopub.status.busy": "2023-03-07T15:33:00.258161Z",
     "iopub.status.idle": "2023-03-07T15:33:00.291379Z",
     "shell.execute_reply": "2023-03-07T15:33:00.289940Z"
    },
    "papermill": {
     "duration": 0.042422,
     "end_time": "2023-03-07T15:33:00.294053",
     "exception": false,
     "start_time": "2023-03-07T15:33:00.251631",
     "status": "completed"
    },
    "tags": []
   },
   "outputs": [
    {
     "data": {
      "text/plain": [
       "ï»¿\"Date \"  OPEN    HIGH    LOW     PREV. CLOSE   ltp     close   vwap    52W H   52W L   VOLUME    VALUE        No of trades \n",
       "01-Apr-21   220.00  220.60  217.30  218.50        220.05  220.05  219.11  239.20  156.05  29062762  6367985754   125473           1\n",
       "21-Feb-22   220.30  221.30  217.15  221.90        218.10  218.00  219.70  265.30  199.10  16129017  3543547702   97652            1\n",
       "22-Apr-21   202.00  206.30  200.55  203.55        205.85  205.90  204.38  239.20  157.10  23139735  4729405358   128190           1\n",
       "21-Sep-22   336.00  345.20  335.50  336.00        340.60  340.95  340.58  345.20  207.00  20992080  7149565839   161744           1\n",
       "21-Sep-21   234.95  242.45  231.70  233.75        241.55  241.50  237.79  242.45  163.35  56671832  13476219720  327928           1\n",
       "                                                                                                                                 ..\n",
       "10-May-22   262.00  266.80  259.10  262.95        259.50  259.75  263.62  273.15  200.90  18033260  4753854528   188902           1\n",
       "10-May-21   207.15  207.45  205.00  205.35        205.80  205.55  205.80  239.20  157.50  16295368  3353519043   113301           1\n",
       "10-Mar-22   231.00  232.50  227.85  229.25        231.45  232.00  230.14  265.30  199.10  36132245  8315364499   162038           1\n",
       "10-Mar-21   209.10  209.20  205.80  207.80        206.40  206.50  206.76  239.20  134.60  19603214  4053232669   126929           1\n",
       "31-Oct-22   348.00  350.50  344.75  345.80        348.95  348.70  347.71  353.20  207.00  13825970  4807406386   124587           1\n",
       "Length: 496, dtype: int64"
      ]
     },
     "execution_count": 5,
     "metadata": {},
     "output_type": "execute_result"
    }
   ],
   "source": [
    "data.value_counts()"
   ]
  },
  {
   "cell_type": "code",
   "execution_count": 6,
   "id": "0ced1613",
   "metadata": {
    "execution": {
     "iopub.execute_input": "2023-03-07T15:33:00.308185Z",
     "iopub.status.busy": "2023-03-07T15:33:00.307395Z",
     "iopub.status.idle": "2023-03-07T15:33:00.360227Z",
     "shell.execute_reply": "2023-03-07T15:33:00.358614Z"
    },
    "papermill": {
     "duration": 0.063505,
     "end_time": "2023-03-07T15:33:00.363011",
     "exception": false,
     "start_time": "2023-03-07T15:33:00.299506",
     "status": "completed"
    },
    "tags": []
   },
   "outputs": [
    {
     "data": {
      "text/html": [
       "<div>\n",
       "<style scoped>\n",
       "    .dataframe tbody tr th:only-of-type {\n",
       "        vertical-align: middle;\n",
       "    }\n",
       "\n",
       "    .dataframe tbody tr th {\n",
       "        vertical-align: top;\n",
       "    }\n",
       "\n",
       "    .dataframe thead th {\n",
       "        text-align: right;\n",
       "    }\n",
       "</style>\n",
       "<table border=\"1\" class=\"dataframe\">\n",
       "  <thead>\n",
       "    <tr style=\"text-align: right;\">\n",
       "      <th></th>\n",
       "      <th>OPEN</th>\n",
       "      <th>HIGH</th>\n",
       "      <th>LOW</th>\n",
       "      <th>PREV. CLOSE</th>\n",
       "      <th>ltp</th>\n",
       "      <th>close</th>\n",
       "      <th>vwap</th>\n",
       "      <th>52W H</th>\n",
       "      <th>52W L</th>\n",
       "      <th>VOLUME</th>\n",
       "      <th>VALUE</th>\n",
       "      <th>No of trades</th>\n",
       "    </tr>\n",
       "  </thead>\n",
       "  <tbody>\n",
       "    <tr>\n",
       "      <th>count</th>\n",
       "      <td>496.000000</td>\n",
       "      <td>496.000000</td>\n",
       "      <td>496.000000</td>\n",
       "      <td>496.000000</td>\n",
       "      <td>496.000000</td>\n",
       "      <td>496.000000</td>\n",
       "      <td>496.000000</td>\n",
       "      <td>496.000000</td>\n",
       "      <td>496.000000</td>\n",
       "      <td>4.960000e+02</td>\n",
       "      <td>4.960000e+02</td>\n",
       "      <td>496.000000</td>\n",
       "    </tr>\n",
       "    <tr>\n",
       "      <th>mean</th>\n",
       "      <td>264.516431</td>\n",
       "      <td>267.187399</td>\n",
       "      <td>261.933266</td>\n",
       "      <td>264.195161</td>\n",
       "      <td>264.561290</td>\n",
       "      <td>264.548488</td>\n",
       "      <td>264.607137</td>\n",
       "      <td>287.185181</td>\n",
       "      <td>187.985081</td>\n",
       "      <td>2.013268e+07</td>\n",
       "      <td>5.073057e+09</td>\n",
       "      <td>146075.691532</td>\n",
       "    </tr>\n",
       "    <tr>\n",
       "      <th>std</th>\n",
       "      <td>55.567791</td>\n",
       "      <td>56.017381</td>\n",
       "      <td>55.043302</td>\n",
       "      <td>55.506584</td>\n",
       "      <td>55.692607</td>\n",
       "      <td>55.716374</td>\n",
       "      <td>55.586341</td>\n",
       "      <td>48.089132</td>\n",
       "      <td>20.928993</td>\n",
       "      <td>1.565313e+07</td>\n",
       "      <td>3.668398e+09</td>\n",
       "      <td>71275.331430</td>\n",
       "    </tr>\n",
       "    <tr>\n",
       "      <th>min</th>\n",
       "      <td>201.200000</td>\n",
       "      <td>201.850000</td>\n",
       "      <td>199.100000</td>\n",
       "      <td>199.600000</td>\n",
       "      <td>199.750000</td>\n",
       "      <td>199.600000</td>\n",
       "      <td>200.500000</td>\n",
       "      <td>239.200000</td>\n",
       "      <td>134.600000</td>\n",
       "      <td>3.170564e+06</td>\n",
       "      <td>1.104708e+09</td>\n",
       "      <td>59314.000000</td>\n",
       "    </tr>\n",
       "    <tr>\n",
       "      <th>25%</th>\n",
       "      <td>214.737500</td>\n",
       "      <td>216.712500</td>\n",
       "      <td>212.312500</td>\n",
       "      <td>214.287500</td>\n",
       "      <td>214.637500</td>\n",
       "      <td>214.487500</td>\n",
       "      <td>214.257500</td>\n",
       "      <td>239.200000</td>\n",
       "      <td>163.350000</td>\n",
       "      <td>1.072510e+07</td>\n",
       "      <td>2.946939e+09</td>\n",
       "      <td>103483.000000</td>\n",
       "    </tr>\n",
       "    <tr>\n",
       "      <th>50%</th>\n",
       "      <td>244.275000</td>\n",
       "      <td>245.700000</td>\n",
       "      <td>240.425000</td>\n",
       "      <td>242.550000</td>\n",
       "      <td>242.700000</td>\n",
       "      <td>243.050000</td>\n",
       "      <td>243.230000</td>\n",
       "      <td>265.300000</td>\n",
       "      <td>199.100000</td>\n",
       "      <td>1.605249e+07</td>\n",
       "      <td>4.030784e+09</td>\n",
       "      <td>128227.000000</td>\n",
       "    </tr>\n",
       "    <tr>\n",
       "      <th>75%</th>\n",
       "      <td>326.125000</td>\n",
       "      <td>329.700000</td>\n",
       "      <td>323.887500</td>\n",
       "      <td>324.537500</td>\n",
       "      <td>325.150000</td>\n",
       "      <td>325.237500</td>\n",
       "      <td>327.097500</td>\n",
       "      <td>330.000000</td>\n",
       "      <td>207.000000</td>\n",
       "      <td>2.316165e+07</td>\n",
       "      <td>5.938337e+09</td>\n",
       "      <td>163386.750000</td>\n",
       "    </tr>\n",
       "    <tr>\n",
       "      <th>max</th>\n",
       "      <td>389.000000</td>\n",
       "      <td>394.000000</td>\n",
       "      <td>383.100000</td>\n",
       "      <td>387.600000</td>\n",
       "      <td>387.400000</td>\n",
       "      <td>387.600000</td>\n",
       "      <td>389.740000</td>\n",
       "      <td>394.000000</td>\n",
       "      <td>210.800000</td>\n",
       "      <td>1.492389e+08</td>\n",
       "      <td>3.421503e+10</td>\n",
       "      <td>734612.000000</td>\n",
       "    </tr>\n",
       "  </tbody>\n",
       "</table>\n",
       "</div>"
      ],
      "text/plain": [
       "            OPEN        HIGH         LOW   PREV. CLOSE         ltp   \\\n",
       "count  496.000000  496.000000  496.000000    496.000000  496.000000   \n",
       "mean   264.516431  267.187399  261.933266    264.195161  264.561290   \n",
       "std     55.567791   56.017381   55.043302     55.506584   55.692607   \n",
       "min    201.200000  201.850000  199.100000    199.600000  199.750000   \n",
       "25%    214.737500  216.712500  212.312500    214.287500  214.637500   \n",
       "50%    244.275000  245.700000  240.425000    242.550000  242.700000   \n",
       "75%    326.125000  329.700000  323.887500    324.537500  325.150000   \n",
       "max    389.000000  394.000000  383.100000    387.600000  387.400000   \n",
       "\n",
       "           close        vwap       52W H       52W L        VOLUME   \\\n",
       "count  496.000000  496.000000  496.000000  496.000000  4.960000e+02   \n",
       "mean   264.548488  264.607137  287.185181  187.985081  2.013268e+07   \n",
       "std     55.716374   55.586341   48.089132   20.928993  1.565313e+07   \n",
       "min    199.600000  200.500000  239.200000  134.600000  3.170564e+06   \n",
       "25%    214.487500  214.257500  239.200000  163.350000  1.072510e+07   \n",
       "50%    243.050000  243.230000  265.300000  199.100000  1.605249e+07   \n",
       "75%    325.237500  327.097500  330.000000  207.000000  2.316165e+07   \n",
       "max    387.600000  389.740000  394.000000  210.800000  1.492389e+08   \n",
       "\n",
       "             VALUE   No of trades   \n",
       "count  4.960000e+02     496.000000  \n",
       "mean   5.073057e+09  146075.691532  \n",
       "std    3.668398e+09   71275.331430  \n",
       "min    1.104708e+09   59314.000000  \n",
       "25%    2.946939e+09  103483.000000  \n",
       "50%    4.030784e+09  128227.000000  \n",
       "75%    5.938337e+09  163386.750000  \n",
       "max    3.421503e+10  734612.000000  "
      ]
     },
     "execution_count": 6,
     "metadata": {},
     "output_type": "execute_result"
    }
   ],
   "source": [
    "data.describe()"
   ]
  },
  {
   "cell_type": "code",
   "execution_count": 7,
   "id": "5590e0a6",
   "metadata": {
    "execution": {
     "iopub.execute_input": "2023-03-07T15:33:00.377791Z",
     "iopub.status.busy": "2023-03-07T15:33:00.376962Z",
     "iopub.status.idle": "2023-03-07T15:33:00.382912Z",
     "shell.execute_reply": "2023-03-07T15:33:00.381978Z"
    },
    "papermill": {
     "duration": 0.016271,
     "end_time": "2023-03-07T15:33:00.385294",
     "exception": false,
     "start_time": "2023-03-07T15:33:00.369023",
     "status": "completed"
    },
    "tags": []
   },
   "outputs": [],
   "source": [
    "data = data.drop(['ï»¿\"Date \"'] , axis=1)"
   ]
  },
  {
   "cell_type": "code",
   "execution_count": 8,
   "id": "907fba2b",
   "metadata": {
    "execution": {
     "iopub.execute_input": "2023-03-07T15:33:00.399434Z",
     "iopub.status.busy": "2023-03-07T15:33:00.398203Z",
     "iopub.status.idle": "2023-03-07T15:33:00.412253Z",
     "shell.execute_reply": "2023-03-07T15:33:00.410538Z"
    },
    "papermill": {
     "duration": 0.024108,
     "end_time": "2023-03-07T15:33:00.415154",
     "exception": false,
     "start_time": "2023-03-07T15:33:00.391046",
     "status": "completed"
    },
    "tags": []
   },
   "outputs": [
    {
     "name": "stdout",
     "output_type": "stream",
     "text": [
      "<class 'pandas.core.frame.DataFrame'>\n",
      "RangeIndex: 496 entries, 0 to 495\n",
      "Data columns (total 12 columns):\n",
      " #   Column         Non-Null Count  Dtype  \n",
      "---  ------         --------------  -----  \n",
      " 0   OPEN           496 non-null    float64\n",
      " 1   HIGH           496 non-null    float64\n",
      " 2   LOW            496 non-null    float64\n",
      " 3   PREV. CLOSE    496 non-null    float64\n",
      " 4   ltp            496 non-null    float64\n",
      " 5   close          496 non-null    float64\n",
      " 6   vwap           496 non-null    float64\n",
      " 7   52W H          496 non-null    float64\n",
      " 8   52W L          496 non-null    float64\n",
      " 9   VOLUME         496 non-null    int64  \n",
      " 10  VALUE          496 non-null    int64  \n",
      " 11  No of trades   496 non-null    int64  \n",
      "dtypes: float64(9), int64(3)\n",
      "memory usage: 46.6 KB\n"
     ]
    }
   ],
   "source": [
    "data.info()"
   ]
  },
  {
   "cell_type": "code",
   "execution_count": 9,
   "id": "4fafbcee",
   "metadata": {
    "execution": {
     "iopub.execute_input": "2023-03-07T15:33:00.428825Z",
     "iopub.status.busy": "2023-03-07T15:33:00.428433Z",
     "iopub.status.idle": "2023-03-07T15:33:02.756807Z",
     "shell.execute_reply": "2023-03-07T15:33:02.755344Z"
    },
    "papermill": {
     "duration": 2.338419,
     "end_time": "2023-03-07T15:33:02.759606",
     "exception": false,
     "start_time": "2023-03-07T15:33:00.421187",
     "status": "completed"
    },
    "tags": []
   },
   "outputs": [
    {
     "data": {
      "image/png": "[encoded data removed]",
      "text/plain": [
       "<Figure size 1200x800 with 12 Axes>"
      ]
     },
     "metadata": {},
     "output_type": "display_data"
    }
   ],
   "source": [
    "import matplotlib.pyplot as plt\n",
    "data.hist(bins=50 , figsize=(12,8))\n",
    "plt.show()"
   ]
  },
  {
   "cell_type": "code",
   "execution_count": 10,
   "id": "a996bad8",
   "metadata": {
    "execution": {
     "iopub.execute_input": "2023-03-07T15:33:02.775647Z",
     "iopub.status.busy": "2023-03-07T15:33:02.774741Z",
     "iopub.status.idle": "2023-03-07T15:33:02.783839Z",
     "shell.execute_reply": "2023-03-07T15:33:02.782514Z"
    },
    "papermill": {
     "duration": 0.020151,
     "end_time": "2023-03-07T15:33:02.786596",
     "exception": false,
     "start_time": "2023-03-07T15:33:02.766445",
     "status": "completed"
    },
    "tags": []
   },
   "outputs": [],
   "source": [
    "X = data.drop(['OPEN ','close '] ,axis=1)"
   ]
  },
  {
   "cell_type": "code",
   "execution_count": 11,
   "id": "92f1a842",
   "metadata": {
    "execution": {
     "iopub.execute_input": "2023-03-07T15:33:02.802976Z",
     "iopub.status.busy": "2023-03-07T15:33:02.801649Z",
     "iopub.status.idle": "2023-03-07T15:33:02.808445Z",
     "shell.execute_reply": "2023-03-07T15:33:02.807277Z"
    },
    "papermill": {
     "duration": 0.017451,
     "end_time": "2023-03-07T15:33:02.810928",
     "exception": false,
     "start_time": "2023-03-07T15:33:02.793477",
     "status": "completed"
    },
    "tags": []
   },
   "outputs": [
    {
     "data": {
      "text/plain": [
       "(496, 10)"
      ]
     },
     "execution_count": 11,
     "metadata": {},
     "output_type": "execute_result"
    }
   ],
   "source": [
    "X.shape"
   ]
  },
  {
   "cell_type": "code",
   "execution_count": 12,
   "id": "0aa89077",
   "metadata": {
    "execution": {
     "iopub.execute_input": "2023-03-07T15:33:02.826475Z",
     "iopub.status.busy": "2023-03-07T15:33:02.826040Z",
     "iopub.status.idle": "2023-03-07T15:33:02.832193Z",
     "shell.execute_reply": "2023-03-07T15:33:02.830967Z"
    },
    "papermill": {
     "duration": 0.016993,
     "end_time": "2023-03-07T15:33:02.834727",
     "exception": false,
     "start_time": "2023-03-07T15:33:02.817734",
     "status": "completed"
    },
    "tags": []
   },
   "outputs": [],
   "source": [
    "Y = data[['OPEN ','close ']]"
   ]
  },
  {
   "cell_type": "code",
   "execution_count": 13,
   "id": "75a16f7f",
   "metadata": {
    "execution": {
     "iopub.execute_input": "2023-03-07T15:33:02.851605Z",
     "iopub.status.busy": "2023-03-07T15:33:02.850766Z",
     "iopub.status.idle": "2023-03-07T15:33:02.857245Z",
     "shell.execute_reply": "2023-03-07T15:33:02.856152Z"
    },
    "papermill": {
     "duration": 0.017767,
     "end_time": "2023-03-07T15:33:02.859544",
     "exception": false,
     "start_time": "2023-03-07T15:33:02.841777",
     "status": "completed"
    },
    "tags": []
   },
   "outputs": [
    {
     "data": {
      "text/plain": [
       "(496, 2)"
      ]
     },
     "execution_count": 13,
     "metadata": {},
     "output_type": "execute_result"
    }
   ],
   "source": [
    "Y.shape"
   ]
  },
  {
   "cell_type": "code",
   "execution_count": 14,
   "id": "5ceb5f2e",
   "metadata": {
    "execution": {
     "iopub.execute_input": "2023-03-07T15:33:02.876121Z",
     "iopub.status.busy": "2023-03-07T15:33:02.874802Z",
     "iopub.status.idle": "2023-03-07T15:33:02.880720Z",
     "shell.execute_reply": "2023-03-07T15:33:02.879833Z"
    },
    "papermill": {
     "duration": 0.017051,
     "end_time": "2023-03-07T15:33:02.883538",
     "exception": false,
     "start_time": "2023-03-07T15:33:02.866487",
     "status": "completed"
    },
    "tags": []
   },
   "outputs": [],
   "source": [
    "X_train , Y_train , X_test , Y_test = X[:400] , Y[:400] , X[400:] , Y[400:]"
   ]
  },
  {
   "cell_type": "code",
   "execution_count": 15,
   "id": "26fd7ea1",
   "metadata": {
    "execution": {
     "iopub.execute_input": "2023-03-07T15:33:02.899614Z",
     "iopub.status.busy": "2023-03-07T15:33:02.899210Z",
     "iopub.status.idle": "2023-03-07T15:33:04.225507Z",
     "shell.execute_reply": "2023-03-07T15:33:04.224119Z"
    },
    "papermill": {
     "duration": 1.337946,
     "end_time": "2023-03-07T15:33:04.228357",
     "exception": false,
     "start_time": "2023-03-07T15:33:02.890411",
     "status": "completed"
    },
    "tags": []
   },
   "outputs": [
    {
     "data": {
      "text/plain": [
       "99.97"
      ]
     },
     "execution_count": 15,
     "metadata": {},
     "output_type": "execute_result"
    }
   ],
   "source": [
    "from sklearn.linear_model import LinearRegression\n",
    "lin_reg = LinearRegression()\n",
    "lin_reg.fit(X_train, Y_train)\n",
    "Y_pred = lin_reg.predict(X_test)\n",
    "acc = round(lin_reg.score(X_train, Y_train) * 100, 2)\n",
    "acc"
   ]
  },
  {
   "cell_type": "code",
   "execution_count": 16,
   "id": "4c92ea3c",
   "metadata": {
    "execution": {
     "iopub.execute_input": "2023-03-07T15:33:04.244728Z",
     "iopub.status.busy": "2023-03-07T15:33:04.244249Z",
     "iopub.status.idle": "2023-03-07T15:33:04.256580Z",
     "shell.execute_reply": "2023-03-07T15:33:04.254874Z"
    },
    "papermill": {
     "duration": 0.02353,
     "end_time": "2023-03-07T15:33:04.258966",
     "exception": false,
     "start_time": "2023-03-07T15:33:04.235436",
     "status": "completed"
    },
    "tags": []
   },
   "outputs": [
    {
     "name": "stderr",
     "output_type": "stream",
     "text": [
      "/opt/conda/lib/python3.7/site-packages/sklearn/base.py:451: UserWarning: X does not have valid feature names, but LinearRegression was fitted with feature names\n",
      "  \"X does not have valid feature names, but\"\n"
     ]
    },
    {
     "data": {
      "text/plain": [
       "array([[383.68702399, 386.66874009]])"
      ]
     },
     "execution_count": 16,
     "metadata": {},
     "output_type": "execute_result"
    }
   ],
   "source": [
    "lin_reg.predict([[385.4,376.1,375.55,385.3,382.31,394,210.8,8180709,31313156732,116737]])"
   ]
  },
  {
   "cell_type": "code",
   "execution_count": 17,
   "id": "27759664",
   "metadata": {
    "execution": {
     "iopub.execute_input": "2023-03-07T15:33:04.275745Z",
     "iopub.status.busy": "2023-03-07T15:33:04.274750Z",
     "iopub.status.idle": "2023-03-07T15:33:04.281488Z",
     "shell.execute_reply": "2023-03-07T15:33:04.280454Z"
    },
    "papermill": {
     "duration": 0.017758,
     "end_time": "2023-03-07T15:33:04.283827",
     "exception": false,
     "start_time": "2023-03-07T15:33:04.266069",
     "status": "completed"
    },
    "tags": []
   },
   "outputs": [
    {
     "data": {
      "text/plain": [
       "'\\nfrom sklearn.linear_model import SGDRegressor\\nsgd_reg = SGDRegressor(max_iter=1000, tol=1e-5, penalty=None, eta0=0.01,\\n                       n_iter_no_change=100, random_state=42)\\nsgd_reg.fit(X_train, Y_train)\\nY_pred = sgd_reg.predict(X_test)\\nacc = round(lin_reg.score(X_train, Y_train) * 100, 2)\\nacc\\n'"
      ]
     },
     "execution_count": 17,
     "metadata": {},
     "output_type": "execute_result"
    }
   ],
   "source": [
    "'''\n",
    "from sklearn.linear_model import SGDRegressor\n",
    "sgd_reg = SGDRegressor(max_iter=1000, tol=1e-5, penalty=None, eta0=0.01,\n",
    "                       n_iter_no_change=100, random_state=42)\n",
    "sgd_reg.fit(X_train, Y_train)\n",
    "Y_pred = sgd_reg.predict(X_test)\n",
    "acc = round(lin_reg.score(X_train, Y_train) * 100, 2)\n",
    "acc\n",
    "'''"
   ]
  }
 ],
 "metadata": {
  "kernelspec": {
   "display_name": "Python 3",
   "language": "python",
   "name": "python3"
  },
  "language_info": {
   "codemirror_mode": {
    "name": "ipython",
    "version": 3
   },
   "file_extension": ".py",
   "mimetype": "text/x-python",
   "name": "python",
   "nbconvert_exporter": "python",
   "pygments_lexer": "ipython3",
   "version": "3.7.12"
  },
  "papermill": {
   "default_parameters": {},
   "duration": 15.587098,
   "end_time": "2023-03-07T15:33:05.114927",
   "environment_variables": {},
   "exception": null,
   "input_path": "__notebook__.ipynb",
   "output_path": "__notebook__.ipynb",
   "parameters": {},
   "start_time": "2023-03-07T15:32:49.527829",
   "version": "2.4.0"
  }
 },
 "nbformat": 4,
 "nbformat_minor": 5
}
