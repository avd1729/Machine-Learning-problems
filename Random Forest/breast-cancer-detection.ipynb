{
 "cells": [
  {
   "cell_type": "markdown",
   "id": "a5535cd7",
   "metadata": {
    "papermill": {
     "duration": 0.009479,
     "end_time": "2023-03-03T15:15:37.694738",
     "exception": false,
     "start_time": "2023-03-03T15:15:37.685259",
     "status": "completed"
    },
    "tags": []
   },
   "source": [
    "# **Breast Cancer Detection**"
   ]
  },
  {
   "cell_type": "markdown",
   "id": "26370ce8",
   "metadata": {
    "papermill": {
     "duration": 0.008008,
     "end_time": "2023-03-03T15:15:37.711223",
     "exception": false,
     "start_time": "2023-03-03T15:15:37.703215",
     "status": "completed"
    },
    "tags": []
   },
   "source": [
    "# **Setting up the environment**"
   ]
  },
  {
   "cell_type": "code",
   "execution_count": 1,
   "id": "77c13312",
   "metadata": {
    "execution": {
     "iopub.execute_input": "2023-03-03T15:15:37.731464Z",
     "iopub.status.busy": "2023-03-03T15:15:37.730656Z",
     "iopub.status.idle": "2023-03-03T15:15:37.741515Z",
     "shell.execute_reply": "2023-03-03T15:15:37.739546Z"
    },
    "papermill": {
     "duration": 0.024111,
     "end_time": "2023-03-03T15:15:37.744575",
     "exception": false,
     "start_time": "2023-03-03T15:15:37.720464",
     "status": "completed"
    },
    "tags": []
   },
   "outputs": [],
   "source": [
    "import numpy as np\n",
    "import pandas as pd"
   ]
  },
  {
   "cell_type": "code",
   "execution_count": 2,
   "id": "ad3f4468",
   "metadata": {
    "execution": {
     "iopub.execute_input": "2023-03-03T15:15:37.765462Z",
     "iopub.status.busy": "2023-03-03T15:15:37.764546Z",
     "iopub.status.idle": "2023-03-03T15:15:37.794606Z",
     "shell.execute_reply": "2023-03-03T15:15:37.793509Z"
    },
    "papermill": {
     "duration": 0.043562,
     "end_time": "2023-03-03T15:15:37.797462",
     "exception": false,
     "start_time": "2023-03-03T15:15:37.753900",
     "status": "completed"
    },
    "tags": []
   },
   "outputs": [],
   "source": [
    "data = pd.read_csv('/kaggle/input/breast-cancer-dataset/breast-cancer.csv')\n",
    "df = pd.DataFrame(data)"
   ]
  },
  {
   "cell_type": "markdown",
   "id": "37b22080",
   "metadata": {
    "papermill": {
     "duration": 0.008455,
     "end_time": "2023-03-03T15:15:37.814337",
     "exception": false,
     "start_time": "2023-03-03T15:15:37.805882",
     "status": "completed"
    },
    "tags": []
   },
   "source": [
    "# **Exploratory Data Analysis**"
   ]
  },
  {
   "cell_type": "code",
   "execution_count": 3,
   "id": "c102fe4b",
   "metadata": {
    "execution": {
     "iopub.execute_input": "2023-03-03T15:15:37.834649Z",
     "iopub.status.busy": "2023-03-03T15:15:37.833875Z",
     "iopub.status.idle": "2023-03-03T15:15:37.866799Z",
     "shell.execute_reply": "2023-03-03T15:15:37.865833Z"
    },
    "papermill": {
     "duration": 0.046694,
     "end_time": "2023-03-03T15:15:37.870232",
     "exception": false,
     "start_time": "2023-03-03T15:15:37.823538",
     "status": "completed"
    },
    "tags": []
   },
   "outputs": [
    {
     "name": "stdout",
     "output_type": "stream",
     "text": [
      "<class 'pandas.core.frame.DataFrame'>\n",
      "RangeIndex: 569 entries, 0 to 568\n",
      "Data columns (total 32 columns):\n",
      " #   Column                   Non-Null Count  Dtype  \n",
      "---  ------                   --------------  -----  \n",
      " 0   id                       569 non-null    int64  \n",
      " 1   diagnosis                569 non-null    object \n",
      " 2   radius_mean              569 non-null    float64\n",
      " 3   texture_mean             569 non-null    float64\n",
      " 4   perimeter_mean           569 non-null    float64\n",
      " 5   area_mean                569 non-null    float64\n",
      " 6   smoothness_mean          569 non-null    float64\n",
      " 7   compactness_mean         569 non-null    float64\n",
      " 8   concavity_mean           569 non-null    float64\n",
      " 9   concave points_mean      569 non-null    float64\n",
      " 10  symmetry_mean            569 non-null    float64\n",
      " 11  fractal_dimension_mean   569 non-null    float64\n",
      " 12  radius_se                569 non-null    float64\n",
      " 13  texture_se               569 non-null    float64\n",
      " 14  perimeter_se             569 non-null    float64\n",
      " 15  area_se                  569 non-null    float64\n",
      " 16  smoothness_se            569 non-null    float64\n",
      " 17  compactness_se           569 non-null    float64\n",
      " 18  concavity_se             569 non-null    float64\n",
      " 19  concave points_se        569 non-null    float64\n",
      " 20  symmetry_se              569 non-null    float64\n",
      " 21  fractal_dimension_se     569 non-null    float64\n",
      " 22  radius_worst             569 non-null    float64\n",
      " 23  texture_worst            569 non-null    float64\n",
      " 24  perimeter_worst          569 non-null    float64\n",
      " 25  area_worst               569 non-null    float64\n",
      " 26  smoothness_worst         569 non-null    float64\n",
      " 27  compactness_worst        569 non-null    float64\n",
      " 28  concavity_worst          569 non-null    float64\n",
      " 29  concave points_worst     569 non-null    float64\n",
      " 30  symmetry_worst           569 non-null    float64\n",
      " 31  fractal_dimension_worst  569 non-null    float64\n",
      "dtypes: float64(30), int64(1), object(1)\n",
      "memory usage: 142.4+ KB\n"
     ]
    }
   ],
   "source": [
    "data.info()"
   ]
  },
  {
   "cell_type": "code",
   "execution_count": 4,
   "id": "90e0e1e7",
   "metadata": {
    "execution": {
     "iopub.execute_input": "2023-03-03T15:15:37.889759Z",
     "iopub.status.busy": "2023-03-03T15:15:37.889294Z",
     "iopub.status.idle": "2023-03-03T15:15:37.931423Z",
     "shell.execute_reply": "2023-03-03T15:15:37.930199Z"
    },
    "papermill": {
     "duration": 0.055379,
     "end_time": "2023-03-03T15:15:37.934273",
     "exception": false,
     "start_time": "2023-03-03T15:15:37.878894",
     "status": "completed"
    },
    "tags": []
   },
   "outputs": [
    {
     "data": {
      "text/html": [
       "<div>\n",
       "<style scoped>\n",
       "    .dataframe tbody tr th:only-of-type {\n",
       "        vertical-align: middle;\n",
       "    }\n",
       "\n",
       "    .dataframe tbody tr th {\n",
       "        vertical-align: top;\n",
       "    }\n",
       "\n",
       "    .dataframe thead th {\n",
       "        text-align: right;\n",
       "    }\n",
       "</style>\n",
       "<table border=\"1\" class=\"dataframe\">\n",
       "  <thead>\n",
       "    <tr style=\"text-align: right;\">\n",
       "      <th></th>\n",
       "      <th>id</th>\n",
       "      <th>diagnosis</th>\n",
       "      <th>radius_mean</th>\n",
       "      <th>texture_mean</th>\n",
       "      <th>perimeter_mean</th>\n",
       "      <th>area_mean</th>\n",
       "      <th>smoothness_mean</th>\n",
       "      <th>compactness_mean</th>\n",
       "      <th>concavity_mean</th>\n",
       "      <th>concave points_mean</th>\n",
       "      <th>...</th>\n",
       "      <th>radius_worst</th>\n",
       "      <th>texture_worst</th>\n",
       "      <th>perimeter_worst</th>\n",
       "      <th>area_worst</th>\n",
       "      <th>smoothness_worst</th>\n",
       "      <th>compactness_worst</th>\n",
       "      <th>concavity_worst</th>\n",
       "      <th>concave points_worst</th>\n",
       "      <th>symmetry_worst</th>\n",
       "      <th>fractal_dimension_worst</th>\n",
       "    </tr>\n",
       "  </thead>\n",
       "  <tbody>\n",
       "    <tr>\n",
       "      <th>0</th>\n",
       "      <td>842302</td>\n",
       "      <td>M</td>\n",
       "      <td>17.99</td>\n",
       "      <td>10.38</td>\n",
       "      <td>122.80</td>\n",
       "      <td>1001.0</td>\n",
       "      <td>0.11840</td>\n",
       "      <td>0.27760</td>\n",
       "      <td>0.3001</td>\n",
       "      <td>0.14710</td>\n",
       "      <td>...</td>\n",
       "      <td>25.38</td>\n",
       "      <td>17.33</td>\n",
       "      <td>184.60</td>\n",
       "      <td>2019.0</td>\n",
       "      <td>0.1622</td>\n",
       "      <td>0.6656</td>\n",
       "      <td>0.7119</td>\n",
       "      <td>0.2654</td>\n",
       "      <td>0.4601</td>\n",
       "      <td>0.11890</td>\n",
       "    </tr>\n",
       "    <tr>\n",
       "      <th>1</th>\n",
       "      <td>842517</td>\n",
       "      <td>M</td>\n",
       "      <td>20.57</td>\n",
       "      <td>17.77</td>\n",
       "      <td>132.90</td>\n",
       "      <td>1326.0</td>\n",
       "      <td>0.08474</td>\n",
       "      <td>0.07864</td>\n",
       "      <td>0.0869</td>\n",
       "      <td>0.07017</td>\n",
       "      <td>...</td>\n",
       "      <td>24.99</td>\n",
       "      <td>23.41</td>\n",
       "      <td>158.80</td>\n",
       "      <td>1956.0</td>\n",
       "      <td>0.1238</td>\n",
       "      <td>0.1866</td>\n",
       "      <td>0.2416</td>\n",
       "      <td>0.1860</td>\n",
       "      <td>0.2750</td>\n",
       "      <td>0.08902</td>\n",
       "    </tr>\n",
       "    <tr>\n",
       "      <th>2</th>\n",
       "      <td>84300903</td>\n",
       "      <td>M</td>\n",
       "      <td>19.69</td>\n",
       "      <td>21.25</td>\n",
       "      <td>130.00</td>\n",
       "      <td>1203.0</td>\n",
       "      <td>0.10960</td>\n",
       "      <td>0.15990</td>\n",
       "      <td>0.1974</td>\n",
       "      <td>0.12790</td>\n",
       "      <td>...</td>\n",
       "      <td>23.57</td>\n",
       "      <td>25.53</td>\n",
       "      <td>152.50</td>\n",
       "      <td>1709.0</td>\n",
       "      <td>0.1444</td>\n",
       "      <td>0.4245</td>\n",
       "      <td>0.4504</td>\n",
       "      <td>0.2430</td>\n",
       "      <td>0.3613</td>\n",
       "      <td>0.08758</td>\n",
       "    </tr>\n",
       "    <tr>\n",
       "      <th>3</th>\n",
       "      <td>84348301</td>\n",
       "      <td>M</td>\n",
       "      <td>11.42</td>\n",
       "      <td>20.38</td>\n",
       "      <td>77.58</td>\n",
       "      <td>386.1</td>\n",
       "      <td>0.14250</td>\n",
       "      <td>0.28390</td>\n",
       "      <td>0.2414</td>\n",
       "      <td>0.10520</td>\n",
       "      <td>...</td>\n",
       "      <td>14.91</td>\n",
       "      <td>26.50</td>\n",
       "      <td>98.87</td>\n",
       "      <td>567.7</td>\n",
       "      <td>0.2098</td>\n",
       "      <td>0.8663</td>\n",
       "      <td>0.6869</td>\n",
       "      <td>0.2575</td>\n",
       "      <td>0.6638</td>\n",
       "      <td>0.17300</td>\n",
       "    </tr>\n",
       "    <tr>\n",
       "      <th>4</th>\n",
       "      <td>84358402</td>\n",
       "      <td>M</td>\n",
       "      <td>20.29</td>\n",
       "      <td>14.34</td>\n",
       "      <td>135.10</td>\n",
       "      <td>1297.0</td>\n",
       "      <td>0.10030</td>\n",
       "      <td>0.13280</td>\n",
       "      <td>0.1980</td>\n",
       "      <td>0.10430</td>\n",
       "      <td>...</td>\n",
       "      <td>22.54</td>\n",
       "      <td>16.67</td>\n",
       "      <td>152.20</td>\n",
       "      <td>1575.0</td>\n",
       "      <td>0.1374</td>\n",
       "      <td>0.2050</td>\n",
       "      <td>0.4000</td>\n",
       "      <td>0.1625</td>\n",
       "      <td>0.2364</td>\n",
       "      <td>0.07678</td>\n",
       "    </tr>\n",
       "  </tbody>\n",
       "</table>\n",
       "<p>5 rows × 32 columns</p>\n",
       "</div>"
      ],
      "text/plain": [
       "         id diagnosis  radius_mean  texture_mean  perimeter_mean  area_mean  \\\n",
       "0    842302         M        17.99         10.38          122.80     1001.0   \n",
       "1    842517         M        20.57         17.77          132.90     1326.0   \n",
       "2  84300903         M        19.69         21.25          130.00     1203.0   \n",
       "3  84348301         M        11.42         20.38           77.58      386.1   \n",
       "4  84358402         M        20.29         14.34          135.10     1297.0   \n",
       "\n",
       "   smoothness_mean  compactness_mean  concavity_mean  concave points_mean  \\\n",
       "0          0.11840           0.27760          0.3001              0.14710   \n",
       "1          0.08474           0.07864          0.0869              0.07017   \n",
       "2          0.10960           0.15990          0.1974              0.12790   \n",
       "3          0.14250           0.28390          0.2414              0.10520   \n",
       "4          0.10030           0.13280          0.1980              0.10430   \n",
       "\n",
       "   ...  radius_worst  texture_worst  perimeter_worst  area_worst  \\\n",
       "0  ...         25.38          17.33           184.60      2019.0   \n",
       "1  ...         24.99          23.41           158.80      1956.0   \n",
       "2  ...         23.57          25.53           152.50      1709.0   \n",
       "3  ...         14.91          26.50            98.87       567.7   \n",
       "4  ...         22.54          16.67           152.20      1575.0   \n",
       "\n",
       "   smoothness_worst  compactness_worst  concavity_worst  concave points_worst  \\\n",
       "0            0.1622             0.6656           0.7119                0.2654   \n",
       "1            0.1238             0.1866           0.2416                0.1860   \n",
       "2            0.1444             0.4245           0.4504                0.2430   \n",
       "3            0.2098             0.8663           0.6869                0.2575   \n",
       "4            0.1374             0.2050           0.4000                0.1625   \n",
       "\n",
       "   symmetry_worst  fractal_dimension_worst  \n",
       "0          0.4601                  0.11890  \n",
       "1          0.2750                  0.08902  \n",
       "2          0.3613                  0.08758  \n",
       "3          0.6638                  0.17300  \n",
       "4          0.2364                  0.07678  \n",
       "\n",
       "[5 rows x 32 columns]"
      ]
     },
     "execution_count": 4,
     "metadata": {},
     "output_type": "execute_result"
    }
   ],
   "source": [
    "data.head()"
   ]
  },
  {
   "cell_type": "code",
   "execution_count": 5,
   "id": "15ee0e50",
   "metadata": {
    "execution": {
     "iopub.execute_input": "2023-03-03T15:15:37.955459Z",
     "iopub.status.busy": "2023-03-03T15:15:37.954930Z",
     "iopub.status.idle": "2023-03-03T15:15:37.963855Z",
     "shell.execute_reply": "2023-03-03T15:15:37.962881Z"
    },
    "papermill": {
     "duration": 0.022055,
     "end_time": "2023-03-03T15:15:37.966318",
     "exception": false,
     "start_time": "2023-03-03T15:15:37.944263",
     "status": "completed"
    },
    "tags": []
   },
   "outputs": [
    {
     "data": {
      "text/plain": [
       "B    357\n",
       "M    212\n",
       "Name: diagnosis, dtype: int64"
      ]
     },
     "execution_count": 5,
     "metadata": {},
     "output_type": "execute_result"
    }
   ],
   "source": [
    "data[\"diagnosis\"].value_counts()"
   ]
  },
  {
   "cell_type": "code",
   "execution_count": 6,
   "id": "83c10eca",
   "metadata": {
    "execution": {
     "iopub.execute_input": "2023-03-03T15:15:37.987535Z",
     "iopub.status.busy": "2023-03-03T15:15:37.986682Z",
     "iopub.status.idle": "2023-03-03T15:15:39.634910Z",
     "shell.execute_reply": "2023-03-03T15:15:39.633309Z"
    },
    "papermill": {
     "duration": 1.66192,
     "end_time": "2023-03-03T15:15:39.637862",
     "exception": false,
     "start_time": "2023-03-03T15:15:37.975942",
     "status": "completed"
    },
    "tags": []
   },
   "outputs": [
    {
     "data": {
      "text/plain": [
       "<AxesSubplot:xlabel='diagnosis', ylabel='count'>"
      ]
     },
     "execution_count": 6,
     "metadata": {},
     "output_type": "execute_result"
    },
    {
     "data": {
      "image/png": "[encoded data removed]",
      "text/plain": [
       "<Figure size 640x480 with 1 Axes>"
      ]
     },
     "metadata": {},
     "output_type": "display_data"
    }
   ],
   "source": [
    "import seaborn as sn\n",
    "sn.countplot(x='diagnosis' , data=data)"
   ]
  },
  {
   "cell_type": "code",
   "execution_count": 7,
   "id": "1a268f41",
   "metadata": {
    "execution": {
     "iopub.execute_input": "2023-03-03T15:15:39.660028Z",
     "iopub.status.busy": "2023-03-03T15:15:39.659247Z",
     "iopub.status.idle": "2023-03-03T15:15:39.665311Z",
     "shell.execute_reply": "2023-03-03T15:15:39.664375Z"
    },
    "papermill": {
     "duration": 0.020618,
     "end_time": "2023-03-03T15:15:39.668160",
     "exception": false,
     "start_time": "2023-03-03T15:15:39.647542",
     "status": "completed"
    },
    "tags": []
   },
   "outputs": [],
   "source": [
    "data = data.drop(['id'] ,axis=1)"
   ]
  },
  {
   "cell_type": "code",
   "execution_count": 8,
   "id": "56e980f1",
   "metadata": {
    "execution": {
     "iopub.execute_input": "2023-03-03T15:15:39.689551Z",
     "iopub.status.busy": "2023-03-03T15:15:39.688358Z",
     "iopub.status.idle": "2023-03-03T15:15:44.908508Z",
     "shell.execute_reply": "2023-03-03T15:15:44.907558Z"
    },
    "papermill": {
     "duration": 5.23418,
     "end_time": "2023-03-03T15:15:44.911764",
     "exception": false,
     "start_time": "2023-03-03T15:15:39.677584",
     "status": "completed"
    },
    "tags": []
   },
   "outputs": [
    {
     "data": {
      "image/png": "[encoded data removed]",
      "text/plain": [
       "<Figure size 1200x800 with 30 Axes>"
      ]
     },
     "metadata": {},
     "output_type": "display_data"
    }
   ],
   "source": [
    "import matplotlib.pyplot as plt\n",
    "data.hist(bins=50 , figsize=(12,8))\n",
    "plt.show()"
   ]
  },
  {
   "cell_type": "code",
   "execution_count": 9,
   "id": "4458cd5c",
   "metadata": {
    "execution": {
     "iopub.execute_input": "2023-03-03T15:15:44.937164Z",
     "iopub.status.busy": "2023-03-03T15:15:44.936520Z",
     "iopub.status.idle": "2023-03-03T15:15:44.950457Z",
     "shell.execute_reply": "2023-03-03T15:15:44.949433Z"
    },
    "papermill": {
     "duration": 0.030265,
     "end_time": "2023-03-03T15:15:44.953495",
     "exception": false,
     "start_time": "2023-03-03T15:15:44.923230",
     "status": "completed"
    },
    "tags": []
   },
   "outputs": [
    {
     "name": "stdout",
     "output_type": "stream",
     "text": [
      "<class 'pandas.core.frame.DataFrame'>\n",
      "RangeIndex: 569 entries, 0 to 568\n",
      "Data columns (total 31 columns):\n",
      " #   Column                   Non-Null Count  Dtype  \n",
      "---  ------                   --------------  -----  \n",
      " 0   diagnosis                569 non-null    object \n",
      " 1   radius_mean              569 non-null    float64\n",
      " 2   texture_mean             569 non-null    float64\n",
      " 3   perimeter_mean           569 non-null    float64\n",
      " 4   area_mean                569 non-null    float64\n",
      " 5   smoothness_mean          569 non-null    float64\n",
      " 6   compactness_mean         569 non-null    float64\n",
      " 7   concavity_mean           569 non-null    float64\n",
      " 8   concave points_mean      569 non-null    float64\n",
      " 9   symmetry_mean            569 non-null    float64\n",
      " 10  fractal_dimension_mean   569 non-null    float64\n",
      " 11  radius_se                569 non-null    float64\n",
      " 12  texture_se               569 non-null    float64\n",
      " 13  perimeter_se             569 non-null    float64\n",
      " 14  area_se                  569 non-null    float64\n",
      " 15  smoothness_se            569 non-null    float64\n",
      " 16  compactness_se           569 non-null    float64\n",
      " 17  concavity_se             569 non-null    float64\n",
      " 18  concave points_se        569 non-null    float64\n",
      " 19  symmetry_se              569 non-null    float64\n",
      " 20  fractal_dimension_se     569 non-null    float64\n",
      " 21  radius_worst             569 non-null    float64\n",
      " 22  texture_worst            569 non-null    float64\n",
      " 23  perimeter_worst          569 non-null    float64\n",
      " 24  area_worst               569 non-null    float64\n",
      " 25  smoothness_worst         569 non-null    float64\n",
      " 26  compactness_worst        569 non-null    float64\n",
      " 27  concavity_worst          569 non-null    float64\n",
      " 28  concave points_worst     569 non-null    float64\n",
      " 29  symmetry_worst           569 non-null    float64\n",
      " 30  fractal_dimension_worst  569 non-null    float64\n",
      "dtypes: float64(30), object(1)\n",
      "memory usage: 137.9+ KB\n"
     ]
    }
   ],
   "source": [
    "data.info()"
   ]
  },
  {
   "cell_type": "markdown",
   "id": "325b7965",
   "metadata": {
    "papermill": {
     "duration": 0.011132,
     "end_time": "2023-03-03T15:15:44.976347",
     "exception": false,
     "start_time": "2023-03-03T15:15:44.965215",
     "status": "completed"
    },
    "tags": []
   },
   "source": [
    "**Handling Categorical values**"
   ]
  },
  {
   "cell_type": "code",
   "execution_count": 10,
   "id": "8f6c8240",
   "metadata": {
    "execution": {
     "iopub.execute_input": "2023-03-03T15:15:45.001524Z",
     "iopub.status.busy": "2023-03-03T15:15:45.000680Z",
     "iopub.status.idle": "2023-03-03T15:15:45.189394Z",
     "shell.execute_reply": "2023-03-03T15:15:45.187961Z"
    },
    "papermill": {
     "duration": 0.204873,
     "end_time": "2023-03-03T15:15:45.192449",
     "exception": false,
     "start_time": "2023-03-03T15:15:44.987576",
     "status": "completed"
    },
    "tags": []
   },
   "outputs": [],
   "source": [
    "from sklearn.preprocessing import OrdinalEncoder\n",
    "ordinal_encoder = OrdinalEncoder()\n",
    "data_cat = data[['diagnosis']]\n",
    "data_cat_encoded = ordinal_encoder.fit_transform(data_cat)\n"
   ]
  },
  {
   "cell_type": "code",
   "execution_count": 11,
   "id": "b865a33b",
   "metadata": {
    "execution": {
     "iopub.execute_input": "2023-03-03T15:15:45.219104Z",
     "iopub.status.busy": "2023-03-03T15:15:45.218624Z",
     "iopub.status.idle": "2023-03-03T15:15:45.226549Z",
     "shell.execute_reply": "2023-03-03T15:15:45.225489Z"
    },
    "papermill": {
     "duration": 0.025325,
     "end_time": "2023-03-03T15:15:45.229280",
     "exception": false,
     "start_time": "2023-03-03T15:15:45.203955",
     "status": "completed"
    },
    "tags": []
   },
   "outputs": [
    {
     "data": {
      "text/plain": [
       "array([[1.],\n",
       "       [1.],\n",
       "       [1.],\n",
       "       [1.],\n",
       "       [1.]])"
      ]
     },
     "execution_count": 11,
     "metadata": {},
     "output_type": "execute_result"
    }
   ],
   "source": [
    "data_cat_encoded[:5]"
   ]
  },
  {
   "cell_type": "code",
   "execution_count": 12,
   "id": "c01d0b1b",
   "metadata": {
    "execution": {
     "iopub.execute_input": "2023-03-03T15:15:45.258286Z",
     "iopub.status.busy": "2023-03-03T15:15:45.256862Z",
     "iopub.status.idle": "2023-03-03T15:15:45.264620Z",
     "shell.execute_reply": "2023-03-03T15:15:45.263431Z"
    },
    "papermill": {
     "duration": 0.023464,
     "end_time": "2023-03-03T15:15:45.266856",
     "exception": false,
     "start_time": "2023-03-03T15:15:45.243392",
     "status": "completed"
    },
    "tags": []
   },
   "outputs": [
    {
     "data": {
      "text/plain": [
       "[array(['B', 'M'], dtype=object)]"
      ]
     },
     "execution_count": 12,
     "metadata": {},
     "output_type": "execute_result"
    }
   ],
   "source": [
    "ordinal_encoder.categories_"
   ]
  },
  {
   "cell_type": "code",
   "execution_count": 13,
   "id": "91ba03e2",
   "metadata": {
    "execution": {
     "iopub.execute_input": "2023-03-03T15:15:45.292589Z",
     "iopub.status.busy": "2023-03-03T15:15:45.291317Z",
     "iopub.status.idle": "2023-03-03T15:15:45.297868Z",
     "shell.execute_reply": "2023-03-03T15:15:45.296790Z"
    },
    "papermill": {
     "duration": 0.022319,
     "end_time": "2023-03-03T15:15:45.300670",
     "exception": false,
     "start_time": "2023-03-03T15:15:45.278351",
     "status": "completed"
    },
    "tags": []
   },
   "outputs": [],
   "source": [
    "x = data.drop(['diagnosis'] ,axis=1)\n",
    "y = data['diagnosis']"
   ]
  },
  {
   "cell_type": "code",
   "execution_count": 14,
   "id": "f86bcef5",
   "metadata": {
    "execution": {
     "iopub.execute_input": "2023-03-03T15:15:45.326579Z",
     "iopub.status.busy": "2023-03-03T15:15:45.325904Z",
     "iopub.status.idle": "2023-03-03T15:15:45.332232Z",
     "shell.execute_reply": "2023-03-03T15:15:45.331236Z"
    },
    "papermill": {
     "duration": 0.021933,
     "end_time": "2023-03-03T15:15:45.334686",
     "exception": false,
     "start_time": "2023-03-03T15:15:45.312753",
     "status": "completed"
    },
    "tags": []
   },
   "outputs": [
    {
     "data": {
      "text/plain": [
       "(569, 30)"
      ]
     },
     "execution_count": 14,
     "metadata": {},
     "output_type": "execute_result"
    }
   ],
   "source": [
    "x.shape"
   ]
  },
  {
   "cell_type": "code",
   "execution_count": 15,
   "id": "5a4f5e39",
   "metadata": {
    "execution": {
     "iopub.execute_input": "2023-03-03T15:15:45.360840Z",
     "iopub.status.busy": "2023-03-03T15:15:45.360050Z",
     "iopub.status.idle": "2023-03-03T15:15:45.367720Z",
     "shell.execute_reply": "2023-03-03T15:15:45.366504Z"
    },
    "papermill": {
     "duration": 0.023684,
     "end_time": "2023-03-03T15:15:45.370244",
     "exception": false,
     "start_time": "2023-03-03T15:15:45.346560",
     "status": "completed"
    },
    "tags": []
   },
   "outputs": [
    {
     "data": {
      "text/plain": [
       "(569,)"
      ]
     },
     "execution_count": 15,
     "metadata": {},
     "output_type": "execute_result"
    }
   ],
   "source": [
    "y.shape"
   ]
  },
  {
   "cell_type": "markdown",
   "id": "bac4fa57",
   "metadata": {
    "papermill": {
     "duration": 0.011273,
     "end_time": "2023-03-03T15:15:45.393407",
     "exception": false,
     "start_time": "2023-03-03T15:15:45.382134",
     "status": "completed"
    },
    "tags": []
   },
   "source": [
    "# **Training the model**"
   ]
  },
  {
   "cell_type": "code",
   "execution_count": 16,
   "id": "7e23ee30",
   "metadata": {
    "execution": {
     "iopub.execute_input": "2023-03-03T15:15:45.419784Z",
     "iopub.status.busy": "2023-03-03T15:15:45.419289Z",
     "iopub.status.idle": "2023-03-03T15:15:45.426394Z",
     "shell.execute_reply": "2023-03-03T15:15:45.424994Z"
    },
    "papermill": {
     "duration": 0.024047,
     "end_time": "2023-03-03T15:15:45.429371",
     "exception": false,
     "start_time": "2023-03-03T15:15:45.405324",
     "status": "completed"
    },
    "tags": []
   },
   "outputs": [],
   "source": [
    "X_train , X_test , Y_train , Y_test = x[:450] , x[450:] , y[:450] , y[450:]"
   ]
  },
  {
   "cell_type": "code",
   "execution_count": 17,
   "id": "16054129",
   "metadata": {
    "execution": {
     "iopub.execute_input": "2023-03-03T15:15:45.456770Z",
     "iopub.status.busy": "2023-03-03T15:15:45.455849Z",
     "iopub.status.idle": "2023-03-03T15:15:46.001141Z",
     "shell.execute_reply": "2023-03-03T15:15:45.999523Z"
    },
    "papermill": {
     "duration": 0.563029,
     "end_time": "2023-03-03T15:15:46.004590",
     "exception": false,
     "start_time": "2023-03-03T15:15:45.441561",
     "status": "completed"
    },
    "tags": []
   },
   "outputs": [],
   "source": [
    "from sklearn.linear_model import LogisticRegression\n",
    "from sklearn.svm import SVC, LinearSVC\n",
    "from sklearn.ensemble import RandomForestClassifier\n",
    "from sklearn.neighbors import KNeighborsClassifier\n",
    "from sklearn.naive_bayes import GaussianNB\n",
    "from sklearn.linear_model import Perceptron\n",
    "from sklearn.linear_model import SGDClassifier\n",
    "from sklearn.tree import DecisionTreeClassifier"
   ]
  },
  {
   "cell_type": "code",
   "execution_count": 18,
   "id": "0971d1c0",
   "metadata": {
    "execution": {
     "iopub.execute_input": "2023-03-03T15:15:46.033585Z",
     "iopub.status.busy": "2023-03-03T15:15:46.032238Z",
     "iopub.status.idle": "2023-03-03T15:15:46.151855Z",
     "shell.execute_reply": "2023-03-03T15:15:46.150369Z"
    },
    "papermill": {
     "duration": 0.138371,
     "end_time": "2023-03-03T15:15:46.155611",
     "exception": false,
     "start_time": "2023-03-03T15:15:46.017240",
     "status": "completed"
    },
    "tags": []
   },
   "outputs": [
    {
     "name": "stderr",
     "output_type": "stream",
     "text": [
      "/opt/conda/lib/python3.7/site-packages/sklearn/linear_model/_logistic.py:818: ConvergenceWarning: lbfgs failed to converge (status=1):\n",
      "STOP: TOTAL NO. of ITERATIONS REACHED LIMIT.\n",
      "\n",
      "Increase the number of iterations (max_iter) or scale the data as shown in:\n",
      "    https://scikit-learn.org/stable/modules/preprocessing.html\n",
      "Please also refer to the documentation for alternative solver options:\n",
      "    https://scikit-learn.org/stable/modules/linear_model.html#logistic-regression\n",
      "  extra_warning_msg=_LOGISTIC_SOLVER_CONVERGENCE_MSG,\n"
     ]
    },
    {
     "data": {
      "text/plain": [
       "96.44"
      ]
     },
     "execution_count": 18,
     "metadata": {},
     "output_type": "execute_result"
    }
   ],
   "source": [
    "logreg = LogisticRegression()\n",
    "logreg.fit(X_train, Y_train)\n",
    "Y_pred = logreg.predict(X_test)\n",
    "acc_log = round(logreg.score(X_train, Y_train) * 100, 2)\n",
    "acc_log"
   ]
  },
  {
   "cell_type": "code",
   "execution_count": 19,
   "id": "0ad272d7",
   "metadata": {
    "execution": {
     "iopub.execute_input": "2023-03-03T15:15:46.219791Z",
     "iopub.status.busy": "2023-03-03T15:15:46.218917Z",
     "iopub.status.idle": "2023-03-03T15:15:46.274196Z",
     "shell.execute_reply": "2023-03-03T15:15:46.272908Z"
    },
    "papermill": {
     "duration": 0.092991,
     "end_time": "2023-03-03T15:15:46.278149",
     "exception": false,
     "start_time": "2023-03-03T15:15:46.185158",
     "status": "completed"
    },
    "tags": []
   },
   "outputs": [
    {
     "data": {
      "text/plain": [
       "91.11"
      ]
     },
     "execution_count": 19,
     "metadata": {},
     "output_type": "execute_result"
    }
   ],
   "source": [
    "svc = SVC()\n",
    "svc.fit(X_train, Y_train)\n",
    "Y_pred = svc.predict(X_test)\n",
    "acc_svc = round(svc.score(X_train, Y_train) * 100, 2)\n",
    "acc_svc"
   ]
  },
  {
   "cell_type": "code",
   "execution_count": 20,
   "id": "22503ec3",
   "metadata": {
    "execution": {
     "iopub.execute_input": "2023-03-03T15:15:46.306628Z",
     "iopub.status.busy": "2023-03-03T15:15:46.306066Z",
     "iopub.status.idle": "2023-03-03T15:15:46.373098Z",
     "shell.execute_reply": "2023-03-03T15:15:46.369590Z"
    },
    "papermill": {
     "duration": 0.08818,
     "end_time": "2023-03-03T15:15:46.379534",
     "exception": false,
     "start_time": "2023-03-03T15:15:46.291354",
     "status": "completed"
    },
    "tags": []
   },
   "outputs": [
    {
     "name": "stderr",
     "output_type": "stream",
     "text": [
      "/opt/conda/lib/python3.7/site-packages/sklearn/svm/_base.py:1208: ConvergenceWarning: Liblinear failed to converge, increase the number of iterations.\n",
      "  ConvergenceWarning,\n"
     ]
    },
    {
     "data": {
      "text/plain": [
       "92.67"
      ]
     },
     "execution_count": 20,
     "metadata": {},
     "output_type": "execute_result"
    }
   ],
   "source": [
    "linear_svc = LinearSVC()\n",
    "linear_svc.fit(X_train, Y_train)\n",
    "Y_pred = linear_svc.predict(X_test)\n",
    "acc_linear_svc = round(linear_svc.score(X_train, Y_train) * 100, 2)\n",
    "acc_linear_svc"
   ]
  },
  {
   "cell_type": "code",
   "execution_count": 21,
   "id": "f371b7b4",
   "metadata": {
    "execution": {
     "iopub.execute_input": "2023-03-03T15:15:46.456246Z",
     "iopub.status.busy": "2023-03-03T15:15:46.451451Z",
     "iopub.status.idle": "2023-03-03T15:15:46.573220Z",
     "shell.execute_reply": "2023-03-03T15:15:46.571210Z"
    },
    "papermill": {
     "duration": 0.170926,
     "end_time": "2023-03-03T15:15:46.578713",
     "exception": false,
     "start_time": "2023-03-03T15:15:46.407787",
     "status": "completed"
    },
    "tags": []
   },
   "outputs": [
    {
     "data": {
      "text/plain": [
       "95.56"
      ]
     },
     "execution_count": 21,
     "metadata": {},
     "output_type": "execute_result"
    }
   ],
   "source": [
    "knn = KNeighborsClassifier(n_neighbors = 3)\n",
    "knn.fit(X_train, Y_train)\n",
    "Y_pred = knn.predict(X_test)\n",
    "acc_knn = round(knn.score(X_train, Y_train) * 100, 2)\n",
    "acc_knn"
   ]
  },
  {
   "cell_type": "code",
   "execution_count": 22,
   "id": "162ebae4",
   "metadata": {
    "execution": {
     "iopub.execute_input": "2023-03-03T15:15:46.646030Z",
     "iopub.status.busy": "2023-03-03T15:15:46.645523Z",
     "iopub.status.idle": "2023-03-03T15:15:46.662274Z",
     "shell.execute_reply": "2023-03-03T15:15:46.661160Z"
    },
    "papermill": {
     "duration": 0.053024,
     "end_time": "2023-03-03T15:15:46.664725",
     "exception": false,
     "start_time": "2023-03-03T15:15:46.611701",
     "status": "completed"
    },
    "tags": []
   },
   "outputs": [
    {
     "data": {
      "text/plain": [
       "94.44"
      ]
     },
     "execution_count": 22,
     "metadata": {},
     "output_type": "execute_result"
    }
   ],
   "source": [
    "gaussian = GaussianNB()\n",
    "gaussian.fit(X_train, Y_train)\n",
    "Y_pred = gaussian.predict(X_test)\n",
    "acc_gaussian = round(gaussian.score(X_train, Y_train) * 100, 2)\n",
    "acc_gaussian"
   ]
  },
  {
   "cell_type": "code",
   "execution_count": 23,
   "id": "a2945f6f",
   "metadata": {
    "execution": {
     "iopub.execute_input": "2023-03-03T15:15:46.692362Z",
     "iopub.status.busy": "2023-03-03T15:15:46.691538Z",
     "iopub.status.idle": "2023-03-03T15:15:46.713038Z",
     "shell.execute_reply": "2023-03-03T15:15:46.711273Z"
    },
    "papermill": {
     "duration": 0.040738,
     "end_time": "2023-03-03T15:15:46.717953",
     "exception": false,
     "start_time": "2023-03-03T15:15:46.677215",
     "status": "completed"
    },
    "tags": []
   },
   "outputs": [
    {
     "data": {
      "text/plain": [
       "92.44"
      ]
     },
     "execution_count": 23,
     "metadata": {},
     "output_type": "execute_result"
    }
   ],
   "source": [
    "perceptron = Perceptron()\n",
    "perceptron.fit(X_train, Y_train)\n",
    "Y_pred = perceptron.predict(X_test)\n",
    "acc_perceptron = round(perceptron.score(X_train, Y_train) * 100, 2)\n",
    "acc_perceptron"
   ]
  },
  {
   "cell_type": "code",
   "execution_count": 24,
   "id": "a12562f7",
   "metadata": {
    "execution": {
     "iopub.execute_input": "2023-03-03T15:15:46.786509Z",
     "iopub.status.busy": "2023-03-03T15:15:46.785729Z",
     "iopub.status.idle": "2023-03-03T15:15:46.821082Z",
     "shell.execute_reply": "2023-03-03T15:15:46.819348Z"
    },
    "papermill": {
     "duration": 0.074372,
     "end_time": "2023-03-03T15:15:46.825799",
     "exception": false,
     "start_time": "2023-03-03T15:15:46.751427",
     "status": "completed"
    },
    "tags": []
   },
   "outputs": [
    {
     "data": {
      "text/plain": [
       "87.33"
      ]
     },
     "execution_count": 24,
     "metadata": {},
     "output_type": "execute_result"
    }
   ],
   "source": [
    "sgd = SGDClassifier()\n",
    "sgd.fit(X_train, Y_train)\n",
    "Y_pred = sgd.predict(X_test)\n",
    "acc_sgd = round(sgd.score(X_train, Y_train) * 100, 2)\n",
    "acc_sgd"
   ]
  },
  {
   "cell_type": "code",
   "execution_count": 25,
   "id": "a8f8b093",
   "metadata": {
    "execution": {
     "iopub.execute_input": "2023-03-03T15:15:46.892013Z",
     "iopub.status.busy": "2023-03-03T15:15:46.891262Z",
     "iopub.status.idle": "2023-03-03T15:15:46.934187Z",
     "shell.execute_reply": "2023-03-03T15:15:46.933151Z"
    },
    "papermill": {
     "duration": 0.079227,
     "end_time": "2023-03-03T15:15:46.936643",
     "exception": false,
     "start_time": "2023-03-03T15:15:46.857416",
     "status": "completed"
    },
    "tags": []
   },
   "outputs": [
    {
     "data": {
      "text/plain": [
       "100.0"
      ]
     },
     "execution_count": 25,
     "metadata": {},
     "output_type": "execute_result"
    }
   ],
   "source": [
    "decision_tree = DecisionTreeClassifier()\n",
    "decision_tree.fit(X_train, Y_train)\n",
    "Y_pred = decision_tree.predict(X_test)\n",
    "acc_decision_tree = round(decision_tree.score(X_train, Y_train) * 100, 2)\n",
    "acc_decision_tree"
   ]
  },
  {
   "cell_type": "code",
   "execution_count": 26,
   "id": "e29291bb",
   "metadata": {
    "execution": {
     "iopub.execute_input": "2023-03-03T15:15:46.964238Z",
     "iopub.status.busy": "2023-03-03T15:15:46.963479Z",
     "iopub.status.idle": "2023-03-03T15:15:47.243107Z",
     "shell.execute_reply": "2023-03-03T15:15:47.241443Z"
    },
    "papermill": {
     "duration": 0.296767,
     "end_time": "2023-03-03T15:15:47.246089",
     "exception": false,
     "start_time": "2023-03-03T15:15:46.949322",
     "status": "completed"
    },
    "tags": []
   },
   "outputs": [
    {
     "data": {
      "text/plain": [
       "100.0"
      ]
     },
     "execution_count": 26,
     "metadata": {},
     "output_type": "execute_result"
    }
   ],
   "source": [
    "random_forest = RandomForestClassifier(n_estimators=100)\n",
    "random_forest.fit(X_train, Y_train)\n",
    "Y_pred = random_forest.predict(X_test)\n",
    "random_forest.score(X_train, Y_train)\n",
    "acc_random_forest = round(random_forest.score(X_train, Y_train) * 100, 2)\n",
    "acc_random_forest"
   ]
  },
  {
   "cell_type": "code",
   "execution_count": 27,
   "id": "1530df44",
   "metadata": {
    "execution": {
     "iopub.execute_input": "2023-03-03T15:15:47.274809Z",
     "iopub.status.busy": "2023-03-03T15:15:47.273600Z",
     "iopub.status.idle": "2023-03-03T15:15:47.288726Z",
     "shell.execute_reply": "2023-03-03T15:15:47.287369Z"
    },
    "papermill": {
     "duration": 0.032477,
     "end_time": "2023-03-03T15:15:47.291566",
     "exception": false,
     "start_time": "2023-03-03T15:15:47.259089",
     "status": "completed"
    },
    "tags": []
   },
   "outputs": [
    {
     "data": {
      "text/html": [
       "<div>\n",
       "<style scoped>\n",
       "    .dataframe tbody tr th:only-of-type {\n",
       "        vertical-align: middle;\n",
       "    }\n",
       "\n",
       "    .dataframe tbody tr th {\n",
       "        vertical-align: top;\n",
       "    }\n",
       "\n",
       "    .dataframe thead th {\n",
       "        text-align: right;\n",
       "    }\n",
       "</style>\n",
       "<table border=\"1\" class=\"dataframe\">\n",
       "  <thead>\n",
       "    <tr style=\"text-align: right;\">\n",
       "      <th></th>\n",
       "      <th>Model</th>\n",
       "      <th>Score</th>\n",
       "    </tr>\n",
       "  </thead>\n",
       "  <tbody>\n",
       "    <tr>\n",
       "      <th>3</th>\n",
       "      <td>Random Forest</td>\n",
       "      <td>100.00</td>\n",
       "    </tr>\n",
       "    <tr>\n",
       "      <th>8</th>\n",
       "      <td>Decision Tree</td>\n",
       "      <td>100.00</td>\n",
       "    </tr>\n",
       "    <tr>\n",
       "      <th>2</th>\n",
       "      <td>Logistic Regression</td>\n",
       "      <td>96.44</td>\n",
       "    </tr>\n",
       "    <tr>\n",
       "      <th>1</th>\n",
       "      <td>KNN</td>\n",
       "      <td>95.56</td>\n",
       "    </tr>\n",
       "    <tr>\n",
       "      <th>4</th>\n",
       "      <td>Naive Bayes</td>\n",
       "      <td>94.44</td>\n",
       "    </tr>\n",
       "    <tr>\n",
       "      <th>7</th>\n",
       "      <td>Linear SVC</td>\n",
       "      <td>92.67</td>\n",
       "    </tr>\n",
       "    <tr>\n",
       "      <th>5</th>\n",
       "      <td>Perceptron</td>\n",
       "      <td>92.44</td>\n",
       "    </tr>\n",
       "    <tr>\n",
       "      <th>0</th>\n",
       "      <td>Support Vector Machines</td>\n",
       "      <td>91.11</td>\n",
       "    </tr>\n",
       "    <tr>\n",
       "      <th>6</th>\n",
       "      <td>Stochastic Gradient Decent</td>\n",
       "      <td>87.33</td>\n",
       "    </tr>\n",
       "  </tbody>\n",
       "</table>\n",
       "</div>"
      ],
      "text/plain": [
       "                        Model   Score\n",
       "3               Random Forest  100.00\n",
       "8               Decision Tree  100.00\n",
       "2         Logistic Regression   96.44\n",
       "1                         KNN   95.56\n",
       "4                 Naive Bayes   94.44\n",
       "7                  Linear SVC   92.67\n",
       "5                  Perceptron   92.44\n",
       "0     Support Vector Machines   91.11\n",
       "6  Stochastic Gradient Decent   87.33"
      ]
     },
     "execution_count": 27,
     "metadata": {},
     "output_type": "execute_result"
    }
   ],
   "source": [
    "models = pd.DataFrame({\n",
    "    'Model': ['Support Vector Machines', 'KNN', 'Logistic Regression', \n",
    "              'Random Forest', 'Naive Bayes', 'Perceptron', \n",
    "              'Stochastic Gradient Decent', 'Linear SVC', \n",
    "              'Decision Tree'],\n",
    "    'Score': [acc_svc, acc_knn, acc_log, \n",
    "              acc_random_forest, acc_gaussian, acc_perceptron, \n",
    "              acc_sgd, acc_linear_svc, acc_decision_tree]})\n",
    "models.sort_values(by='Score', ascending=False)"
   ]
  },
  {
   "cell_type": "code",
   "execution_count": 28,
   "id": "899cabf6",
   "metadata": {
    "execution": {
     "iopub.execute_input": "2023-03-03T15:15:47.319661Z",
     "iopub.status.busy": "2023-03-03T15:15:47.319206Z",
     "iopub.status.idle": "2023-03-03T15:15:47.558897Z",
     "shell.execute_reply": "2023-03-03T15:15:47.557534Z"
    },
    "papermill": {
     "duration": 0.257404,
     "end_time": "2023-03-03T15:15:47.562068",
     "exception": false,
     "start_time": "2023-03-03T15:15:47.304664",
     "status": "completed"
    },
    "tags": []
   },
   "outputs": [],
   "source": [
    "random_forest = RandomForestClassifier(n_estimators=100)\n",
    "random_forest.fit(X_train, Y_train)\n",
    "Y_pred = random_forest.predict(X_test)"
   ]
  },
  {
   "cell_type": "markdown",
   "id": "b613bbea",
   "metadata": {
    "papermill": {
     "duration": 0.012467,
     "end_time": "2023-03-03T15:15:47.587425",
     "exception": false,
     "start_time": "2023-03-03T15:15:47.574958",
     "status": "completed"
    },
    "tags": []
   },
   "source": [
    "# **Error Analysis**"
   ]
  },
  {
   "cell_type": "code",
   "execution_count": 29,
   "id": "96974297",
   "metadata": {
    "execution": {
     "iopub.execute_input": "2023-03-03T15:15:47.614697Z",
     "iopub.status.busy": "2023-03-03T15:15:47.614265Z",
     "iopub.status.idle": "2023-03-03T15:15:47.629976Z",
     "shell.execute_reply": "2023-03-03T15:15:47.628445Z"
    },
    "papermill": {
     "duration": 0.033893,
     "end_time": "2023-03-03T15:15:47.634105",
     "exception": false,
     "start_time": "2023-03-03T15:15:47.600212",
     "status": "completed"
    },
    "tags": []
   },
   "outputs": [
    {
     "name": "stdout",
     "output_type": "stream",
     "text": [
      "              precision    recall  f1-score   support\n",
      "\n",
      "           B       1.00      0.99      0.99        92\n",
      "           M       0.96      1.00      0.98        27\n",
      "\n",
      "    accuracy                           0.99       119\n",
      "   macro avg       0.98      0.99      0.99       119\n",
      "weighted avg       0.99      0.99      0.99       119\n",
      "\n"
     ]
    }
   ],
   "source": [
    "from sklearn import metrics\n",
    "print(metrics.classification_report(Y_test , Y_pred))"
   ]
  },
  {
   "cell_type": "code",
   "execution_count": 30,
   "id": "31f7287a",
   "metadata": {
    "execution": {
     "iopub.execute_input": "2023-03-03T15:15:47.662383Z",
     "iopub.status.busy": "2023-03-03T15:15:47.661945Z",
     "iopub.status.idle": "2023-03-03T15:15:47.927831Z",
     "shell.execute_reply": "2023-03-03T15:15:47.926336Z"
    },
    "papermill": {
     "duration": 0.28325,
     "end_time": "2023-03-03T15:15:47.930878",
     "exception": false,
     "start_time": "2023-03-03T15:15:47.647628",
     "status": "completed"
    },
    "tags": []
   },
   "outputs": [
    {
     "data": {
      "text/plain": [
       "<AxesSubplot:>"
      ]
     },
     "execution_count": 30,
     "metadata": {},
     "output_type": "execute_result"
    },
    {
     "data": {
      "image/png": "[encoded data removed]",
      "text/plain": [
       "<Figure size 640x480 with 2 Axes>"
      ]
     },
     "metadata": {},
     "output_type": "display_data"
    }
   ],
   "source": [
    "cm = metrics.confusion_matrix(Y_test , Y_pred)\n",
    "sn.heatmap(cm , annot=True , fmt='.2f')"
   ]
  }
 ],
 "metadata": {
  "kernelspec": {
   "display_name": "Python 3",
   "language": "python",
   "name": "python3"
  },
  "language_info": {
   "codemirror_mode": {
    "name": "ipython",
    "version": 3
   },
   "file_extension": ".py",
   "mimetype": "text/x-python",
   "name": "python",
   "nbconvert_exporter": "python",
   "pygments_lexer": "ipython3",
   "version": "3.7.12"
  },
  "papermill": {
   "default_parameters": {},
   "duration": 23.039829,
   "end_time": "2023-03-03T15:15:48.868884",
   "environment_variables": {},
   "exception": null,
   "input_path": "__notebook__.ipynb",
   "output_path": "__notebook__.ipynb",
   "parameters": {},
   "start_time": "2023-03-03T15:15:25.829055",
   "version": "2.4.0"
  }
 },
 "nbformat": 4,
 "nbformat_minor": 5
}
